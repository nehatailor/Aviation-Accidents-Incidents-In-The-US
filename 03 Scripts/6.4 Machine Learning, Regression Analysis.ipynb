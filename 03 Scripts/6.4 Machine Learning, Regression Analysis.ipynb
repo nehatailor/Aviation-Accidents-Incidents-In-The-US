{
 "cells": [
  {
   "cell_type": "markdown",
   "id": "e7d14d5f",
   "metadata": {},
   "source": [
    "# 6.4 Machine Learning Part 1"
   ]
  },
  {
   "cell_type": "markdown",
   "id": "315e7306",
   "metadata": {},
   "source": [
    "### The following script contains the following:"
   ]
  },
  {
   "cell_type": "markdown",
   "id": "d84a1d93",
   "metadata": {},
   "source": [
    "#### 1. Importing Libraries and Data set"
   ]
  },
  {
   "cell_type": "markdown",
   "id": "5034fd2b",
   "metadata": {},
   "source": [
    "#### 2. Data Cleaning"
   ]
  },
  {
   "cell_type": "markdown",
   "id": "35468c01",
   "metadata": {},
   "source": [
    "#### 3. Data Prep for Regression Analysis"
   ]
  },
  {
   "cell_type": "markdown",
   "id": "f61ff365",
   "metadata": {},
   "source": [
    "#### 4. Regression Analysis"
   ]
  },
  {
   "cell_type": "markdown",
   "id": "a9737912",
   "metadata": {},
   "source": [
    "### 1. Import libraries and data set"
   ]
  },
  {
   "cell_type": "code",
   "execution_count": 1,
   "id": "a1be612e",
   "metadata": {},
   "outputs": [],
   "source": [
    "import pandas as pd\n",
    "import numpy as np\n",
    "import seaborn as sns\n",
    "import matplotlib\n",
    "import matplotlib.pyplot as plt\n",
    "import os\n",
    "import sklearn\n",
    "from sklearn.model_selection import train_test_split \n",
    "from sklearn.linear_model import LinearRegression\n",
    "from sklearn.metrics import mean_squared_error, r2_score"
   ]
  },
  {
   "cell_type": "code",
   "execution_count": 2,
   "id": "4f1cf57a",
   "metadata": {},
   "outputs": [],
   "source": [
    "# Display the graphs/charts\n",
    "\n",
    "%matplotlib inline"
   ]
  },
  {
   "cell_type": "code",
   "execution_count": 3,
   "id": "e7be5c69",
   "metadata": {},
   "outputs": [],
   "source": [
    "path = r'C:\\Users\\nehat\\OneDrive\\Desktop\\CF DA Immersion\\Achievement 6\\Aviation Accidents In The US'"
   ]
  },
  {
   "cell_type": "code",
   "execution_count": 4,
   "id": "80d7137a",
   "metadata": {},
   "outputs": [],
   "source": [
    "# Import Data set\n",
    "\n",
    "df = pd.read_csv(os.path.join(path, '02 Data', 'Prepared data', 'geospatial.csv'))"
   ]
  },
  {
   "cell_type": "markdown",
   "id": "9da05a0a",
   "metadata": {},
   "source": [
    "### 2. Data Cleaning"
   ]
  },
  {
   "cell_type": "code",
   "execution_count": 5,
   "id": "a0d415f5",
   "metadata": {},
   "outputs": [
    {
     "data": {
      "text/plain": [
       "Index(['Unnamed: 0', 'Unnamed: 0.1', 'Investigation.Type', 'Event.Date',\n",
       "       'Country', 'Latitude', 'Longitude', 'Airport.Name', 'Aircraft.Damage',\n",
       "       'Aircraft.Category', 'Make', 'Model', 'Amateur.Built',\n",
       "       'Number.of.Engines', 'Engine.Type', 'Purpose.of.flight',\n",
       "       'Total.Fatal.Injuries', 'Total.Serious.Injuries',\n",
       "       'Total.Minor.Injuries', 'Total.Uninjured', 'Weather.Condition',\n",
       "       'Broad.Phase.Of.Flight', 'City', 'State', 'InjurySeverityType',\n",
       "       'Aircraft Size'],\n",
       "      dtype='object')"
      ]
     },
     "execution_count": 5,
     "metadata": {},
     "output_type": "execute_result"
    }
   ],
   "source": [
    "df.columns"
   ]
  },
  {
   "cell_type": "code",
   "execution_count": 6,
   "id": "3b4076d0",
   "metadata": {},
   "outputs": [
    {
     "data": {
      "text/html": [
       "<div>\n",
       "<style scoped>\n",
       "    .dataframe tbody tr th:only-of-type {\n",
       "        vertical-align: middle;\n",
       "    }\n",
       "\n",
       "    .dataframe tbody tr th {\n",
       "        vertical-align: top;\n",
       "    }\n",
       "\n",
       "    .dataframe thead th {\n",
       "        text-align: right;\n",
       "    }\n",
       "</style>\n",
       "<table border=\"1\" class=\"dataframe\">\n",
       "  <thead>\n",
       "    <tr style=\"text-align: right;\">\n",
       "      <th></th>\n",
       "      <th>Unnamed: 0</th>\n",
       "      <th>Unnamed: 0.1</th>\n",
       "      <th>Investigation.Type</th>\n",
       "      <th>Event.Date</th>\n",
       "      <th>Country</th>\n",
       "      <th>Latitude</th>\n",
       "      <th>Longitude</th>\n",
       "      <th>Airport.Name</th>\n",
       "      <th>Aircraft.Damage</th>\n",
       "      <th>Aircraft.Category</th>\n",
       "      <th>...</th>\n",
       "      <th>Total.Fatal.Injuries</th>\n",
       "      <th>Total.Serious.Injuries</th>\n",
       "      <th>Total.Minor.Injuries</th>\n",
       "      <th>Total.Uninjured</th>\n",
       "      <th>Weather.Condition</th>\n",
       "      <th>Broad.Phase.Of.Flight</th>\n",
       "      <th>City</th>\n",
       "      <th>State</th>\n",
       "      <th>InjurySeverityType</th>\n",
       "      <th>Aircraft Size</th>\n",
       "    </tr>\n",
       "  </thead>\n",
       "  <tbody>\n",
       "    <tr>\n",
       "      <th>0</th>\n",
       "      <td>0</td>\n",
       "      <td>0</td>\n",
       "      <td>Accident</td>\n",
       "      <td>2/16/2021</td>\n",
       "      <td>United States</td>\n",
       "      <td>42.595377</td>\n",
       "      <td>-89.030245</td>\n",
       "      <td>NaN</td>\n",
       "      <td>Substantial</td>\n",
       "      <td>Airplane</td>\n",
       "      <td>...</td>\n",
       "      <td>2.0</td>\n",
       "      <td>0.0</td>\n",
       "      <td>0.0</td>\n",
       "      <td>0.0</td>\n",
       "      <td>VMC</td>\n",
       "      <td>NaN</td>\n",
       "      <td>JANESVILLE</td>\n",
       "      <td>WI</td>\n",
       "      <td>Fatal</td>\n",
       "      <td>Medium Aircraft</td>\n",
       "    </tr>\n",
       "    <tr>\n",
       "      <th>1</th>\n",
       "      <td>1</td>\n",
       "      <td>1</td>\n",
       "      <td>Accident</td>\n",
       "      <td>2/15/2021</td>\n",
       "      <td>United States</td>\n",
       "      <td>18.354444</td>\n",
       "      <td>-65.027778</td>\n",
       "      <td>NaN</td>\n",
       "      <td>Destroyed</td>\n",
       "      <td>Helicopter</td>\n",
       "      <td>...</td>\n",
       "      <td>4.0</td>\n",
       "      <td>0.0</td>\n",
       "      <td>0.0</td>\n",
       "      <td>0.0</td>\n",
       "      <td>VMC</td>\n",
       "      <td>NaN</td>\n",
       "      <td>St Thomas</td>\n",
       "      <td>CB</td>\n",
       "      <td>Fatal</td>\n",
       "      <td>Small Aircraft</td>\n",
       "    </tr>\n",
       "    <tr>\n",
       "      <th>2</th>\n",
       "      <td>2</td>\n",
       "      <td>2</td>\n",
       "      <td>Accident</td>\n",
       "      <td>2/13/2021</td>\n",
       "      <td>United States</td>\n",
       "      <td>61.336392</td>\n",
       "      <td>-152.016430</td>\n",
       "      <td>NaN</td>\n",
       "      <td>Substantial</td>\n",
       "      <td>Airplane</td>\n",
       "      <td>...</td>\n",
       "      <td>0.0</td>\n",
       "      <td>0.0</td>\n",
       "      <td>2.0</td>\n",
       "      <td>0.0</td>\n",
       "      <td>NaN</td>\n",
       "      <td>NaN</td>\n",
       "      <td>TYONEK</td>\n",
       "      <td>AK</td>\n",
       "      <td>Minor</td>\n",
       "      <td>Small Aircraft</td>\n",
       "    </tr>\n",
       "    <tr>\n",
       "      <th>3</th>\n",
       "      <td>3</td>\n",
       "      <td>3</td>\n",
       "      <td>Accident</td>\n",
       "      <td>2/12/2021</td>\n",
       "      <td>United States</td>\n",
       "      <td>43.297731</td>\n",
       "      <td>-89.755693</td>\n",
       "      <td>SAUK-PRAIRIE</td>\n",
       "      <td>Substantial</td>\n",
       "      <td>Airplane</td>\n",
       "      <td>...</td>\n",
       "      <td>0.0</td>\n",
       "      <td>0.0</td>\n",
       "      <td>0.0</td>\n",
       "      <td>1.0</td>\n",
       "      <td>VMC</td>\n",
       "      <td>NaN</td>\n",
       "      <td>PRAIRIE DU SAC</td>\n",
       "      <td>WI</td>\n",
       "      <td>Non-Fatal</td>\n",
       "      <td>Small Aircraft</td>\n",
       "    </tr>\n",
       "    <tr>\n",
       "      <th>4</th>\n",
       "      <td>4</td>\n",
       "      <td>4</td>\n",
       "      <td>Accident</td>\n",
       "      <td>2/10/2021</td>\n",
       "      <td>United States</td>\n",
       "      <td>27.243723</td>\n",
       "      <td>-81.413767</td>\n",
       "      <td>NaN</td>\n",
       "      <td>Substantial</td>\n",
       "      <td>Airplane</td>\n",
       "      <td>...</td>\n",
       "      <td>0.0</td>\n",
       "      <td>0.0</td>\n",
       "      <td>1.0</td>\n",
       "      <td>0.0</td>\n",
       "      <td>NaN</td>\n",
       "      <td>NaN</td>\n",
       "      <td>LAKE PLACID</td>\n",
       "      <td>FL</td>\n",
       "      <td>Minor</td>\n",
       "      <td>Small Aircraft</td>\n",
       "    </tr>\n",
       "    <tr>\n",
       "      <th>5</th>\n",
       "      <td>5</td>\n",
       "      <td>5</td>\n",
       "      <td>Accident</td>\n",
       "      <td>2/8/2021</td>\n",
       "      <td>United States</td>\n",
       "      <td>42.100000</td>\n",
       "      <td>-107.580000</td>\n",
       "      <td>NaN</td>\n",
       "      <td>Substantial</td>\n",
       "      <td>Airplane</td>\n",
       "      <td>...</td>\n",
       "      <td>0.0</td>\n",
       "      <td>0.0</td>\n",
       "      <td>2.0</td>\n",
       "      <td>0.0</td>\n",
       "      <td>VMC</td>\n",
       "      <td>NaN</td>\n",
       "      <td>SARATOGA</td>\n",
       "      <td>WY</td>\n",
       "      <td>Minor</td>\n",
       "      <td>Small Aircraft</td>\n",
       "    </tr>\n",
       "    <tr>\n",
       "      <th>6</th>\n",
       "      <td>6</td>\n",
       "      <td>6</td>\n",
       "      <td>Accident</td>\n",
       "      <td>2/8/2021</td>\n",
       "      <td>United States</td>\n",
       "      <td>40.107220</td>\n",
       "      <td>-93.374640</td>\n",
       "      <td>NaN</td>\n",
       "      <td>Substantial</td>\n",
       "      <td>Airplane</td>\n",
       "      <td>...</td>\n",
       "      <td>2.0</td>\n",
       "      <td>0.0</td>\n",
       "      <td>0.0</td>\n",
       "      <td>0.0</td>\n",
       "      <td>IMC</td>\n",
       "      <td>NaN</td>\n",
       "      <td>GALT</td>\n",
       "      <td>MO</td>\n",
       "      <td>Fatal</td>\n",
       "      <td>Small Aircraft</td>\n",
       "    </tr>\n",
       "    <tr>\n",
       "      <th>7</th>\n",
       "      <td>7</td>\n",
       "      <td>7</td>\n",
       "      <td>Accident</td>\n",
       "      <td>2/8/2021</td>\n",
       "      <td>United States</td>\n",
       "      <td>38.247194</td>\n",
       "      <td>-78.045611</td>\n",
       "      <td>ORANGE COUNTY</td>\n",
       "      <td>Substantial</td>\n",
       "      <td>Airplane</td>\n",
       "      <td>...</td>\n",
       "      <td>0.0</td>\n",
       "      <td>0.0</td>\n",
       "      <td>0.0</td>\n",
       "      <td>1.0</td>\n",
       "      <td>VMC</td>\n",
       "      <td>NaN</td>\n",
       "      <td>ORANGE COUNTY</td>\n",
       "      <td>VA</td>\n",
       "      <td>Non-Fatal</td>\n",
       "      <td>Small Aircraft</td>\n",
       "    </tr>\n",
       "    <tr>\n",
       "      <th>8</th>\n",
       "      <td>8</td>\n",
       "      <td>8</td>\n",
       "      <td>Accident</td>\n",
       "      <td>2/8/2021</td>\n",
       "      <td>United States</td>\n",
       "      <td>33.461769</td>\n",
       "      <td>-111.730460</td>\n",
       "      <td>Falcon Field Airport</td>\n",
       "      <td>Substantial</td>\n",
       "      <td>Helicopter</td>\n",
       "      <td>...</td>\n",
       "      <td>0.0</td>\n",
       "      <td>0.0</td>\n",
       "      <td>0.0</td>\n",
       "      <td>2.0</td>\n",
       "      <td>VMC</td>\n",
       "      <td>NaN</td>\n",
       "      <td>MESA</td>\n",
       "      <td>AZ</td>\n",
       "      <td>Non-Fatal</td>\n",
       "      <td>Small Aircraft</td>\n",
       "    </tr>\n",
       "    <tr>\n",
       "      <th>9</th>\n",
       "      <td>9</td>\n",
       "      <td>9</td>\n",
       "      <td>Accident</td>\n",
       "      <td>2/8/2021</td>\n",
       "      <td>United States</td>\n",
       "      <td>39.613889</td>\n",
       "      <td>-110.751610</td>\n",
       "      <td>CARBON COUNTY RGNL/BUCK DAVIS</td>\n",
       "      <td>Substantial</td>\n",
       "      <td>Airplane</td>\n",
       "      <td>...</td>\n",
       "      <td>0.0</td>\n",
       "      <td>0.0</td>\n",
       "      <td>0.0</td>\n",
       "      <td>1.0</td>\n",
       "      <td>NaN</td>\n",
       "      <td>NaN</td>\n",
       "      <td>PRICE</td>\n",
       "      <td>UT</td>\n",
       "      <td>Non-Fatal</td>\n",
       "      <td>Small Aircraft</td>\n",
       "    </tr>\n",
       "  </tbody>\n",
       "</table>\n",
       "<p>10 rows × 26 columns</p>\n",
       "</div>"
      ],
      "text/plain": [
       "   Unnamed: 0  Unnamed: 0.1 Investigation.Type Event.Date        Country  \\\n",
       "0           0             0           Accident  2/16/2021  United States   \n",
       "1           1             1           Accident  2/15/2021  United States   \n",
       "2           2             2           Accident  2/13/2021  United States   \n",
       "3           3             3           Accident  2/12/2021  United States   \n",
       "4           4             4           Accident  2/10/2021  United States   \n",
       "5           5             5           Accident   2/8/2021  United States   \n",
       "6           6             6           Accident   2/8/2021  United States   \n",
       "7           7             7           Accident   2/8/2021  United States   \n",
       "8           8             8           Accident   2/8/2021  United States   \n",
       "9           9             9           Accident   2/8/2021  United States   \n",
       "\n",
       "    Latitude   Longitude                   Airport.Name Aircraft.Damage  \\\n",
       "0  42.595377  -89.030245                            NaN     Substantial   \n",
       "1  18.354444  -65.027778                            NaN       Destroyed   \n",
       "2  61.336392 -152.016430                            NaN     Substantial   \n",
       "3  43.297731  -89.755693                   SAUK-PRAIRIE     Substantial   \n",
       "4  27.243723  -81.413767                            NaN     Substantial   \n",
       "5  42.100000 -107.580000                            NaN     Substantial   \n",
       "6  40.107220  -93.374640                            NaN     Substantial   \n",
       "7  38.247194  -78.045611                  ORANGE COUNTY     Substantial   \n",
       "8  33.461769 -111.730460           Falcon Field Airport     Substantial   \n",
       "9  39.613889 -110.751610  CARBON COUNTY RGNL/BUCK DAVIS     Substantial   \n",
       "\n",
       "  Aircraft.Category  ... Total.Fatal.Injuries Total.Serious.Injuries  \\\n",
       "0          Airplane  ...                  2.0                    0.0   \n",
       "1        Helicopter  ...                  4.0                    0.0   \n",
       "2          Airplane  ...                  0.0                    0.0   \n",
       "3          Airplane  ...                  0.0                    0.0   \n",
       "4          Airplane  ...                  0.0                    0.0   \n",
       "5          Airplane  ...                  0.0                    0.0   \n",
       "6          Airplane  ...                  2.0                    0.0   \n",
       "7          Airplane  ...                  0.0                    0.0   \n",
       "8        Helicopter  ...                  0.0                    0.0   \n",
       "9          Airplane  ...                  0.0                    0.0   \n",
       "\n",
       "  Total.Minor.Injuries  Total.Uninjured Weather.Condition  \\\n",
       "0                  0.0              0.0               VMC   \n",
       "1                  0.0              0.0               VMC   \n",
       "2                  2.0              0.0               NaN   \n",
       "3                  0.0              1.0               VMC   \n",
       "4                  1.0              0.0               NaN   \n",
       "5                  2.0              0.0               VMC   \n",
       "6                  0.0              0.0               IMC   \n",
       "7                  0.0              1.0               VMC   \n",
       "8                  0.0              2.0               VMC   \n",
       "9                  0.0              1.0               NaN   \n",
       "\n",
       "  Broad.Phase.Of.Flight            City  State  InjurySeverityType  \\\n",
       "0                   NaN      JANESVILLE     WI               Fatal   \n",
       "1                   NaN       St Thomas     CB               Fatal   \n",
       "2                   NaN          TYONEK     AK               Minor   \n",
       "3                   NaN  PRAIRIE DU SAC     WI           Non-Fatal   \n",
       "4                   NaN     LAKE PLACID     FL               Minor   \n",
       "5                   NaN        SARATOGA     WY               Minor   \n",
       "6                   NaN            GALT     MO               Fatal   \n",
       "7                   NaN   ORANGE COUNTY     VA           Non-Fatal   \n",
       "8                   NaN            MESA     AZ           Non-Fatal   \n",
       "9                   NaN           PRICE     UT           Non-Fatal   \n",
       "\n",
       "     Aircraft Size  \n",
       "0  Medium Aircraft  \n",
       "1   Small Aircraft  \n",
       "2   Small Aircraft  \n",
       "3   Small Aircraft  \n",
       "4   Small Aircraft  \n",
       "5   Small Aircraft  \n",
       "6   Small Aircraft  \n",
       "7   Small Aircraft  \n",
       "8   Small Aircraft  \n",
       "9   Small Aircraft  \n",
       "\n",
       "[10 rows x 26 columns]"
      ]
     },
     "execution_count": 6,
     "metadata": {},
     "output_type": "execute_result"
    }
   ],
   "source": [
    "df.head(10)"
   ]
  },
  {
   "cell_type": "code",
   "execution_count": 7,
   "id": "384ff299",
   "metadata": {},
   "outputs": [
    {
     "data": {
      "text/plain": [
       "(84794, 26)"
      ]
     },
     "execution_count": 7,
     "metadata": {},
     "output_type": "execute_result"
    }
   ],
   "source": [
    "df.shape"
   ]
  },
  {
   "cell_type": "code",
   "execution_count": 8,
   "id": "f5236fc9",
   "metadata": {
    "scrolled": true
   },
   "outputs": [],
   "source": [
    "# Drop columns\n",
    "\n",
    "df.drop(columns = [\"Unnamed: 0.1\"], inplace = True)"
   ]
  },
  {
   "cell_type": "code",
   "execution_count": 9,
   "id": "ef115471",
   "metadata": {},
   "outputs": [
    {
     "data": {
      "text/plain": [
       "Unnamed: 0                  int64\n",
       "Investigation.Type         object\n",
       "Event.Date                 object\n",
       "Country                    object\n",
       "Latitude                  float64\n",
       "Longitude                 float64\n",
       "Airport.Name               object\n",
       "Aircraft.Damage            object\n",
       "Aircraft.Category          object\n",
       "Make                       object\n",
       "Model                      object\n",
       "Amateur.Built              object\n",
       "Number.of.Engines         float64\n",
       "Engine.Type                object\n",
       "Purpose.of.flight          object\n",
       "Total.Fatal.Injuries      float64\n",
       "Total.Serious.Injuries    float64\n",
       "Total.Minor.Injuries      float64\n",
       "Total.Uninjured           float64\n",
       "Weather.Condition          object\n",
       "Broad.Phase.Of.Flight      object\n",
       "City                       object\n",
       "State                      object\n",
       "InjurySeverityType         object\n",
       "Aircraft Size              object\n",
       "dtype: object"
      ]
     },
     "execution_count": 9,
     "metadata": {},
     "output_type": "execute_result"
    }
   ],
   "source": [
    "df.dtypes"
   ]
  },
  {
   "cell_type": "code",
   "execution_count": 10,
   "id": "e190f212",
   "metadata": {},
   "outputs": [],
   "source": [
    "df.drop(columns = [\"Unnamed: 0\"], inplace = True)"
   ]
  },
  {
   "cell_type": "code",
   "execution_count": 11,
   "id": "ad772906",
   "metadata": {},
   "outputs": [
    {
     "data": {
      "text/plain": [
       "Index(['Investigation.Type', 'Event.Date', 'Country', 'Latitude', 'Longitude',\n",
       "       'Airport.Name', 'Aircraft.Damage', 'Aircraft.Category', 'Make', 'Model',\n",
       "       'Amateur.Built', 'Number.of.Engines', 'Engine.Type',\n",
       "       'Purpose.of.flight', 'Total.Fatal.Injuries', 'Total.Serious.Injuries',\n",
       "       'Total.Minor.Injuries', 'Total.Uninjured', 'Weather.Condition',\n",
       "       'Broad.Phase.Of.Flight', 'City', 'State', 'InjurySeverityType',\n",
       "       'Aircraft Size'],\n",
       "      dtype='object')"
      ]
     },
     "execution_count": 11,
     "metadata": {},
     "output_type": "execute_result"
    }
   ],
   "source": [
    "df.columns"
   ]
  },
  {
   "cell_type": "markdown",
   "id": "47001b56",
   "metadata": {},
   "source": [
    "#### Check missing values"
   ]
  },
  {
   "cell_type": "code",
   "execution_count": 12,
   "id": "bc36a295",
   "metadata": {},
   "outputs": [
    {
     "data": {
      "text/plain": [
       "Investigation.Type           13\n",
       "Event.Date                    0\n",
       "Country                     504\n",
       "Latitude                      0\n",
       "Longitude                     0\n",
       "Airport.Name              34010\n",
       "Aircraft.Damage            2801\n",
       "Aircraft.Category         56030\n",
       "Make                         68\n",
       "Model                        99\n",
       "Amateur.Built               680\n",
       "Number.of.Engines             0\n",
       "Engine.Type                4611\n",
       "Purpose.of.flight          5391\n",
       "Total.Fatal.Injuries          0\n",
       "Total.Serious.Injuries        0\n",
       "Total.Minor.Injuries          0\n",
       "Total.Uninjured               0\n",
       "Weather.Condition          3668\n",
       "Broad.Phase.Of.Flight      7368\n",
       "City                         77\n",
       "State                       579\n",
       "InjurySeverityType          134\n",
       "Aircraft Size                 0\n",
       "dtype: int64"
      ]
     },
     "execution_count": 12,
     "metadata": {},
     "output_type": "execute_result"
    }
   ],
   "source": [
    "df.isnull().sum()"
   ]
  },
  {
   "cell_type": "code",
   "execution_count": 13,
   "id": "b5d6e363",
   "metadata": {},
   "outputs": [],
   "source": [
    "# Fill missing values with Nan\n",
    "\n",
    "categorical_columns = df.select_dtypes(include=['object']).columns\n",
    "\n",
    "df[categorical_columns] = df[categorical_columns].fillna(\"NaN\")"
   ]
  },
  {
   "cell_type": "code",
   "execution_count": 14,
   "id": "49846ae1",
   "metadata": {},
   "outputs": [
    {
     "data": {
      "text/plain": [
       "Investigation.Type        0\n",
       "Event.Date                0\n",
       "Country                   0\n",
       "Latitude                  0\n",
       "Longitude                 0\n",
       "Airport.Name              0\n",
       "Aircraft.Damage           0\n",
       "Aircraft.Category         0\n",
       "Make                      0\n",
       "Model                     0\n",
       "Amateur.Built             0\n",
       "Number.of.Engines         0\n",
       "Engine.Type               0\n",
       "Purpose.of.flight         0\n",
       "Total.Fatal.Injuries      0\n",
       "Total.Serious.Injuries    0\n",
       "Total.Minor.Injuries      0\n",
       "Total.Uninjured           0\n",
       "Weather.Condition         0\n",
       "Broad.Phase.Of.Flight     0\n",
       "City                      0\n",
       "State                     0\n",
       "InjurySeverityType        0\n",
       "Aircraft Size             0\n",
       "dtype: int64"
      ]
     },
     "execution_count": 14,
     "metadata": {},
     "output_type": "execute_result"
    }
   ],
   "source": [
    "# check missing values have been replace\n",
    "\n",
    "df.isnull().sum()"
   ]
  },
  {
   "cell_type": "markdown",
   "id": "d8db3309",
   "metadata": {},
   "source": [
    "#### Check for Duplicates"
   ]
  },
  {
   "cell_type": "code",
   "execution_count": 15,
   "id": "ad39ada2",
   "metadata": {},
   "outputs": [],
   "source": [
    "dups = df.duplicated()"
   ]
  },
  {
   "cell_type": "code",
   "execution_count": 16,
   "id": "52365cea",
   "metadata": {},
   "outputs": [
    {
     "data": {
      "text/plain": [
       "(84794,)"
      ]
     },
     "execution_count": 16,
     "metadata": {},
     "output_type": "execute_result"
    }
   ],
   "source": [
    "dups.shape"
   ]
  },
  {
   "cell_type": "markdown",
   "id": "1f7a697d",
   "metadata": {},
   "source": [
    "There are no duplicates in the data set"
   ]
  },
  {
   "cell_type": "markdown",
   "id": "1351c12b",
   "metadata": {},
   "source": [
    "#### Check Extreme Values"
   ]
  },
  {
   "cell_type": "code",
   "execution_count": 17,
   "id": "6dda337b",
   "metadata": {},
   "outputs": [
    {
     "name": "stderr",
     "output_type": "stream",
     "text": [
      "C:\\Users\\nehat\\anaconda3\\lib\\site-packages\\seaborn\\distributions.py:2557: FutureWarning: `distplot` is a deprecated function and will be removed in a future version. Please adapt your code to use either `displot` (a figure-level function with similar flexibility) or `histplot` (an axes-level function for histograms).\n",
      "  warnings.warn(msg, FutureWarning)\n"
     ]
    },
    {
     "data": {
      "text/plain": [
       "<AxesSubplot:xlabel='Number.of.Engines', ylabel='Density'>"
      ]
     },
     "execution_count": 17,
     "metadata": {},
     "output_type": "execute_result"
    },
    {
     "data": {
      "image/png": "[encoded data removed]",
      "text/plain": [
       "<Figure size 432x288 with 1 Axes>"
      ]
     },
     "metadata": {
      "needs_background": "light"
     },
     "output_type": "display_data"
    }
   ],
   "source": [
    "# check for extreme values\n",
    "\n",
    "sns.distplot(df['Number.of.Engines'], bins=25)"
   ]
  },
  {
   "cell_type": "code",
   "execution_count": 18,
   "id": "7e975ccf",
   "metadata": {},
   "outputs": [
    {
     "data": {
      "text/plain": [
       "1.1635606831172267"
      ]
     },
     "execution_count": 18,
     "metadata": {},
     "output_type": "execute_result"
    }
   ],
   "source": [
    "# Check the mean\n",
    "\n",
    "df['Number.of.Engines'].mean()"
   ]
  },
  {
   "cell_type": "code",
   "execution_count": 19,
   "id": "d583b559",
   "metadata": {},
   "outputs": [
    {
     "data": {
      "text/plain": [
       "1.0"
      ]
     },
     "execution_count": 19,
     "metadata": {},
     "output_type": "execute_result"
    }
   ],
   "source": [
    "# Check the median\n",
    "\n",
    "df['Number.of.Engines'].median()"
   ]
  },
  {
   "cell_type": "code",
   "execution_count": 20,
   "id": "b621bb3f",
   "metadata": {},
   "outputs": [
    {
     "data": {
      "text/plain": [
       "8.0"
      ]
     },
     "execution_count": 20,
     "metadata": {},
     "output_type": "execute_result"
    }
   ],
   "source": [
    "# Check the max\n",
    "\n",
    "df['Number.of.Engines'].max()"
   ]
  },
  {
   "cell_type": "code",
   "execution_count": 21,
   "id": "f1337a79",
   "metadata": {},
   "outputs": [
    {
     "name": "stderr",
     "output_type": "stream",
     "text": [
      "C:\\Users\\nehat\\anaconda3\\lib\\site-packages\\seaborn\\distributions.py:2557: FutureWarning: `distplot` is a deprecated function and will be removed in a future version. Please adapt your code to use either `displot` (a figure-level function with similar flexibility) or `histplot` (an axes-level function for histograms).\n",
      "  warnings.warn(msg, FutureWarning)\n"
     ]
    },
    {
     "data": {
      "text/plain": [
       "<AxesSubplot:xlabel='Total.Fatal.Injuries', ylabel='Density'>"
      ]
     },
     "execution_count": 21,
     "metadata": {},
     "output_type": "execute_result"
    },
    {
     "data": {
      "image/png": "[encoded data removed]",
      "text/plain": [
       "<Figure size 432x288 with 1 Axes>"
      ]
     },
     "metadata": {
      "needs_background": "light"
     },
     "output_type": "display_data"
    }
   ],
   "source": [
    "sns.distplot(df['Total.Fatal.Injuries'], bins=25)"
   ]
  },
  {
   "cell_type": "code",
   "execution_count": 22,
   "id": "2b799e26",
   "metadata": {},
   "outputs": [
    {
     "data": {
      "text/plain": [
       "0.8493553456784716"
      ]
     },
     "execution_count": 22,
     "metadata": {},
     "output_type": "execute_result"
    }
   ],
   "source": [
    "# Check the mean\n",
    "\n",
    "df['Total.Fatal.Injuries'].mean()"
   ]
  },
  {
   "cell_type": "code",
   "execution_count": 23,
   "id": "641abfd3",
   "metadata": {},
   "outputs": [
    {
     "data": {
      "text/plain": [
       "0.8470373809278173"
      ]
     },
     "execution_count": 23,
     "metadata": {},
     "output_type": "execute_result"
    }
   ],
   "source": [
    "# Check the median\n",
    "\n",
    "df['Total.Fatal.Injuries'].median()"
   ]
  },
  {
   "cell_type": "code",
   "execution_count": 24,
   "id": "ce63e1e6",
   "metadata": {},
   "outputs": [
    {
     "data": {
      "text/plain": [
       "349.0"
      ]
     },
     "execution_count": 24,
     "metadata": {},
     "output_type": "execute_result"
    }
   ],
   "source": [
    "# Check the max\n",
    "\n",
    "df['Total.Fatal.Injuries'].max()"
   ]
  },
  {
   "cell_type": "code",
   "execution_count": 25,
   "id": "c760f300",
   "metadata": {},
   "outputs": [
    {
     "name": "stderr",
     "output_type": "stream",
     "text": [
      "C:\\Users\\nehat\\anaconda3\\lib\\site-packages\\seaborn\\distributions.py:2557: FutureWarning: `distplot` is a deprecated function and will be removed in a future version. Please adapt your code to use either `displot` (a figure-level function with similar flexibility) or `histplot` (an axes-level function for histograms).\n",
      "  warnings.warn(msg, FutureWarning)\n"
     ]
    },
    {
     "data": {
      "text/plain": [
       "<AxesSubplot:xlabel='Total.Serious.Injuries', ylabel='Density'>"
      ]
     },
     "execution_count": 25,
     "metadata": {},
     "output_type": "execute_result"
    },
    {
     "data": {
      "image/png": "[encoded data removed]",
      "text/plain": [
       "<Figure size 432x288 with 1 Axes>"
      ]
     },
     "metadata": {
      "needs_background": "light"
     },
     "output_type": "display_data"
    }
   ],
   "source": [
    "# check for extreme values\n",
    "\n",
    "sns.distplot(df['Total.Serious.Injuries'], bins=25)"
   ]
  },
  {
   "cell_type": "code",
   "execution_count": 26,
   "id": "23a3b9e7",
   "metadata": {},
   "outputs": [
    {
     "data": {
      "text/plain": [
       "0.32860389997199524"
      ]
     },
     "execution_count": 26,
     "metadata": {},
     "output_type": "execute_result"
    }
   ],
   "source": [
    "# Check the mean\n",
    "\n",
    "df['Total.Serious.Injuries'].mean()"
   ]
  },
  {
   "cell_type": "code",
   "execution_count": 27,
   "id": "6a000153",
   "metadata": {},
   "outputs": [
    {
     "data": {
      "text/plain": [
       "0.0"
      ]
     },
     "execution_count": 27,
     "metadata": {},
     "output_type": "execute_result"
    }
   ],
   "source": [
    "# Check the median\n",
    "\n",
    "df['Total.Serious.Injuries'].median()"
   ]
  },
  {
   "cell_type": "code",
   "execution_count": 28,
   "id": "05c31629",
   "metadata": {},
   "outputs": [
    {
     "data": {
      "text/plain": [
       "111.0"
      ]
     },
     "execution_count": 28,
     "metadata": {},
     "output_type": "execute_result"
    }
   ],
   "source": [
    "# Check the max\n",
    "\n",
    "df['Total.Serious.Injuries'].max()"
   ]
  },
  {
   "cell_type": "code",
   "execution_count": 29,
   "id": "7a0ac097",
   "metadata": {},
   "outputs": [
    {
     "name": "stderr",
     "output_type": "stream",
     "text": [
      "C:\\Users\\nehat\\anaconda3\\lib\\site-packages\\seaborn\\distributions.py:2557: FutureWarning: `distplot` is a deprecated function and will be removed in a future version. Please adapt your code to use either `displot` (a figure-level function with similar flexibility) or `histplot` (an axes-level function for histograms).\n",
      "  warnings.warn(msg, FutureWarning)\n"
     ]
    },
    {
     "data": {
      "text/plain": [
       "<AxesSubplot:xlabel='Total.Minor.Injuries', ylabel='Density'>"
      ]
     },
     "execution_count": 29,
     "metadata": {},
     "output_type": "execute_result"
    },
    {
     "data": {
      "image/png": "[encoded data removed]",
      "text/plain": [
       "<Figure size 432x288 with 1 Axes>"
      ]
     },
     "metadata": {
      "needs_background": "light"
     },
     "output_type": "display_data"
    }
   ],
   "source": [
    "# check for extreme values\n",
    "\n",
    "sns.distplot(df['Total.Minor.Injuries'], bins=25)"
   ]
  },
  {
   "cell_type": "code",
   "execution_count": 30,
   "id": "f7a49308",
   "metadata": {},
   "outputs": [
    {
     "data": {
      "text/plain": [
       "0.5204960168633428"
      ]
     },
     "execution_count": 30,
     "metadata": {},
     "output_type": "execute_result"
    }
   ],
   "source": [
    "# Check the mean\n",
    "\n",
    "df['Total.Minor.Injuries'].mean()"
   ]
  },
  {
   "cell_type": "code",
   "execution_count": 31,
   "id": "be8f48b2",
   "metadata": {},
   "outputs": [
    {
     "data": {
      "text/plain": [
       "0.5211041538054502"
      ]
     },
     "execution_count": 31,
     "metadata": {},
     "output_type": "execute_result"
    }
   ],
   "source": [
    "# Check the median\n",
    "\n",
    "df['Total.Minor.Injuries'].median()"
   ]
  },
  {
   "cell_type": "code",
   "execution_count": 32,
   "id": "866ef950",
   "metadata": {},
   "outputs": [
    {
     "data": {
      "text/plain": [
       "380.0"
      ]
     },
     "execution_count": 32,
     "metadata": {},
     "output_type": "execute_result"
    }
   ],
   "source": [
    "# Check the max\n",
    "\n",
    "df['Total.Minor.Injuries'].max()"
   ]
  },
  {
   "cell_type": "code",
   "execution_count": 33,
   "id": "228e0c1e",
   "metadata": {},
   "outputs": [
    {
     "name": "stderr",
     "output_type": "stream",
     "text": [
      "C:\\Users\\nehat\\anaconda3\\lib\\site-packages\\seaborn\\distributions.py:2557: FutureWarning: `distplot` is a deprecated function and will be removed in a future version. Please adapt your code to use either `displot` (a figure-level function with similar flexibility) or `histplot` (an axes-level function for histograms).\n",
      "  warnings.warn(msg, FutureWarning)\n"
     ]
    },
    {
     "data": {
      "text/plain": [
       "<AxesSubplot:xlabel='Total.Uninjured', ylabel='Density'>"
      ]
     },
     "execution_count": 33,
     "metadata": {},
     "output_type": "execute_result"
    },
    {
     "data": {
      "image/png": "[encoded data removed]",
      "text/plain": [
       "<Figure size 432x288 with 1 Axes>"
      ]
     },
     "metadata": {
      "needs_background": "light"
     },
     "output_type": "display_data"
    }
   ],
   "source": [
    "# check for extreme values\n",
    "\n",
    "sns.distplot(df['Total.Uninjured'], bins=25)"
   ]
  },
  {
   "cell_type": "code",
   "execution_count": 34,
   "id": "ee99f329",
   "metadata": {},
   "outputs": [
    {
     "data": {
      "text/plain": [
       "6.1655651498268185"
      ]
     },
     "execution_count": 34,
     "metadata": {},
     "output_type": "execute_result"
    }
   ],
   "source": [
    "# Check the mean\n",
    "\n",
    "df['Total.Uninjured'].mean()"
   ]
  },
  {
   "cell_type": "code",
   "execution_count": 35,
   "id": "27e6dda6",
   "metadata": {},
   "outputs": [
    {
     "data": {
      "text/plain": [
       "1.0"
      ]
     },
     "execution_count": 35,
     "metadata": {},
     "output_type": "execute_result"
    }
   ],
   "source": [
    "# Check the median\n",
    "\n",
    "df['Total.Uninjured'].median()"
   ]
  },
  {
   "cell_type": "code",
   "execution_count": 36,
   "id": "9ac283ac",
   "metadata": {},
   "outputs": [
    {
     "data": {
      "text/plain": [
       "699.0"
      ]
     },
     "execution_count": 36,
     "metadata": {},
     "output_type": "execute_result"
    }
   ],
   "source": [
    "# Check the max\n",
    "\n",
    "df['Total.Uninjured'].max()"
   ]
  },
  {
   "cell_type": "markdown",
   "id": "d08af038",
   "metadata": {},
   "source": [
    "### 3. Data Prep for Regression Analysis"
   ]
  },
  {
   "cell_type": "markdown",
   "id": "df1e265d",
   "metadata": {},
   "source": [
    "#### Create different scatterplots using matplotlib for another look at how the chosen variables plot against each other."
   ]
  },
  {
   "cell_type": "code",
   "execution_count": 37,
   "id": "e059b9ff",
   "metadata": {},
   "outputs": [
    {
     "data": {
      "image/png": "[encoded data removed]",
      "text/plain": [
       "<Figure size 432x288 with 1 Axes>"
      ]
     },
     "metadata": {
      "needs_background": "light"
     },
     "output_type": "display_data"
    }
   ],
   "source": [
    "# Scatterplot for number of engines and total fatal injuries\n",
    "\n",
    "scatter2 = df.plot(x = 'Number.of.Engines', y='Total.Fatal.Injuries',style='o')\n",
    "plt.title('Number of Engines vs Total Fatal Injuries')  \n",
    "plt.xlabel('Number of Engines')  \n",
    "plt.ylabel('Total Fatal Injuries')  \n",
    "plt.show()"
   ]
  },
  {
   "cell_type": "code",
   "execution_count": 38,
   "id": "6d0c9273",
   "metadata": {},
   "outputs": [],
   "source": [
    "# Export scatterplot\n",
    "\n",
    "scatter2.figure.savefig(os.path.join(path, '04 Analysis', 'Visualizations', 'engines_fatal.png'))"
   ]
  },
  {
   "cell_type": "code",
   "execution_count": 39,
   "id": "8689e3ab",
   "metadata": {},
   "outputs": [
    {
     "data": {
      "image/png": "[encoded data removed]",
      "text/plain": [
       "<Figure size 432x288 with 1 Axes>"
      ]
     },
     "metadata": {
      "needs_background": "light"
     },
     "output_type": "display_data"
    }
   ],
   "source": [
    "# Scatterplot for number of engines and total uninjured\n",
    "\n",
    "scatter3 = df.plot(x = 'Number.of.Engines', y='Total.Uninjured',style='o')\n",
    "plt.title('Number of Engines vs Total Uninjured')  \n",
    "plt.xlabel('Number of Engines')  \n",
    "plt.ylabel('Total Uninjured')  \n",
    "plt.show()"
   ]
  },
  {
   "cell_type": "code",
   "execution_count": 40,
   "id": "50083011",
   "metadata": {},
   "outputs": [],
   "source": [
    "# Export scatterplot\n",
    "\n",
    "scatter3.figure.savefig(os.path.join(path, '04 Analysis', 'Visualizations', 'engines_uninjured.png'))"
   ]
  },
  {
   "cell_type": "code",
   "execution_count": 41,
   "id": "525864fe",
   "metadata": {},
   "outputs": [
    {
     "data": {
      "image/png": "[encoded data removed]",
      "text/plain": [
       "<Figure size 432x288 with 1 Axes>"
      ]
     },
     "metadata": {
      "needs_background": "light"
     },
     "output_type": "display_data"
    }
   ],
   "source": [
    "# Scatterplot for the total fatal injuries within each state\n",
    "\n",
    "scatter4 = df.plot(x = 'State', y='Total.Fatal.Injuries',style='o')\n",
    "plt.title('State vs Total Fatal Injuries')  \n",
    "plt.xlabel('State')  \n",
    "plt.ylabel('Total Fatal Injuries')  \n",
    "plt.show()"
   ]
  },
  {
   "cell_type": "code",
   "execution_count": 42,
   "id": "493a7bcb",
   "metadata": {},
   "outputs": [],
   "source": [
    "# Export scatterplot\n",
    "\n",
    "scatter4.figure.savefig(os.path.join(path, '04 Analysis', 'Visualizations', 'state_fatal.png'))"
   ]
  },
  {
   "cell_type": "markdown",
   "id": "87f4abcc",
   "metadata": {},
   "source": [
    "### 4. State hypothesis"
   ]
  },
  {
   "cell_type": "markdown",
   "id": "808f1083",
   "metadata": {},
   "source": [
    "#### Hypothesis\n",
    "\n",
    "The fewer the engines, the higher the number of fatal injuries."
   ]
  },
  {
   "cell_type": "markdown",
   "id": "93437b64",
   "metadata": {},
   "source": [
    "### 5. Reshape the Variables into NumPy arrays and put them in to separate objects"
   ]
  },
  {
   "cell_type": "code",
   "execution_count": 43,
   "id": "9503f276",
   "metadata": {},
   "outputs": [],
   "source": [
    "# Reshape the variables into NumPy arrays and put them into separate objects.\n",
    "\n",
    "X = df['Total.Fatal.Injuries'].values.reshape(-1,1)\n",
    "y = df['Number.of.Engines'].values.reshape(-1,1)"
   ]
  },
  {
   "cell_type": "code",
   "execution_count": 44,
   "id": "72a141dd",
   "metadata": {},
   "outputs": [
    {
     "data": {
      "text/plain": [
       "array([[2.],\n",
       "       [4.],\n",
       "       [0.],\n",
       "       ...,\n",
       "       [3.],\n",
       "       [4.],\n",
       "       [2.]])"
      ]
     },
     "execution_count": 44,
     "metadata": {},
     "output_type": "execute_result"
    }
   ],
   "source": [
    "X"
   ]
  },
  {
   "cell_type": "code",
   "execution_count": 45,
   "id": "8da599a9",
   "metadata": {},
   "outputs": [
    {
     "data": {
      "text/plain": [
       "array([[2.],\n",
       "       [1.],\n",
       "       [1.],\n",
       "       ...,\n",
       "       [1.],\n",
       "       [1.],\n",
       "       [1.]])"
      ]
     },
     "execution_count": 45,
     "metadata": {},
     "output_type": "execute_result"
    }
   ],
   "source": [
    "y"
   ]
  },
  {
   "cell_type": "markdown",
   "id": "e37b2b67",
   "metadata": {},
   "source": [
    "### 6. Split the data in to two sets: a training and a test set"
   ]
  },
  {
   "cell_type": "code",
   "execution_count": 46,
   "id": "9c2de02c",
   "metadata": {},
   "outputs": [],
   "source": [
    "X_train, X_test, y_train, y_test = train_test_split(X, y, test_size=0.3, random_state=0)"
   ]
  },
  {
   "cell_type": "markdown",
   "id": "10dc39ae",
   "metadata": {},
   "source": [
    "### 7. Regression Analysis\n"
   ]
  },
  {
   "cell_type": "code",
   "execution_count": 47,
   "id": "0207d912",
   "metadata": {},
   "outputs": [],
   "source": [
    "# Create a regression object to fit on the training set\n",
    "\n",
    "regression = LinearRegression()"
   ]
  },
  {
   "cell_type": "code",
   "execution_count": 48,
   "id": "d78a6d3b",
   "metadata": {},
   "outputs": [
    {
     "data": {
      "text/plain": [
       "LinearRegression()"
      ]
     },
     "execution_count": 48,
     "metadata": {},
     "output_type": "execute_result"
    }
   ],
   "source": [
    "# Fit the regression object onto the training set.\n",
    "\n",
    "regression.fit(X_train, y_train)"
   ]
  },
  {
   "cell_type": "code",
   "execution_count": 49,
   "id": "3acde855",
   "metadata": {},
   "outputs": [],
   "source": [
    "# Predict the values of y using X.\n",
    "\n",
    "y_predicted = regression.predict(X_test)"
   ]
  },
  {
   "cell_type": "code",
   "execution_count": 50,
   "id": "c530bbce",
   "metadata": {},
   "outputs": [
    {
     "data": {
      "image/png": "[encoded data removed]",
      "text/plain": [
       "<Figure size 432x288 with 1 Axes>"
      ]
     },
     "metadata": {
      "needs_background": "light"
     },
     "output_type": "display_data"
    }
   ],
   "source": [
    "# Create a plot that shows the regression line from the model on the test set.\n",
    "\n",
    "plot_test = plt\n",
    "scatter5 = plot_test.scatter(X_test, y_test, color='blue', s = 15)\n",
    "plot_test.plot(X_test, y_predicted, color='red', linewidth =3)\n",
    "plot_test.title('Total Fatal Injuries vs Number of Engines (Test set)')\n",
    "plot_test.xlabel('Total Fatal Injuries')\n",
    "plot_test.ylabel('Number of Engines')\n",
    "plot_test.show()"
   ]
  },
  {
   "cell_type": "code",
   "execution_count": 51,
   "id": "4a5fd5b4",
   "metadata": {},
   "outputs": [],
   "source": [
    "# Export scatterplot\n",
    "\n",
    "scatter5.figure.savefig(os.path.join(path, '04 Analysis', 'Visualizations', 'regression_line.png'))"
   ]
  },
  {
   "cell_type": "markdown",
   "id": "6bfdb956",
   "metadata": {},
   "source": [
    "Around the regression line there are many data points that are not been covered. There appears to be a positive slope indicating the hypothesis of fewer engines leads to less fatal injuries. There are some data pointd suggestng that higher fatal injuries also with aircrafts with engines 2 and below."
   ]
  },
  {
   "cell_type": "code",
   "execution_count": 52,
   "id": "3d93acef",
   "metadata": {},
   "outputs": [],
   "source": [
    "# Create objects that contain the model summary statistics.\n",
    "\n",
    "rmse = mean_squared_error(y_test, y_predicted)\n",
    "r2 = r2_score(y_test, y_predicted)"
   ]
  },
  {
   "cell_type": "code",
   "execution_count": 53,
   "id": "1ba7b05c",
   "metadata": {},
   "outputs": [
    {
     "name": "stdout",
     "output_type": "stream",
     "text": [
      "Slope: [[0.00469473]]\n",
      "Mean squared error:  0.17063534064598865\n",
      "R2 score:  0.005020333801022625\n"
     ]
    }
   ],
   "source": [
    "# Print the model summary statistics to evaluate the performance of the model\n",
    "print('Slope:' ,regression.coef_)\n",
    "print('Mean squared error: ', rmse)\n",
    "print('R2 score: ', r2)"
   ]
  },
  {
   "cell_type": "markdown",
   "id": "ebe8c29d",
   "metadata": {},
   "source": [
    "From the above results we can see there is a positive relationship with a positve coefficient. So as the number of total fatal injuries increase so does the number of engines. This is different from my hypothesis as I assumed from my previous analysis that as the number of engines increase the number of total fatal injuries decreased. \n",
    "Looking at the MSE the regression may not be the best model to predict the relationship between the two chosen variables.\n",
    "The R2 score is very small which also suggests that the model is not a great fit or performing well."
   ]
  },
  {
   "cell_type": "code",
   "execution_count": 54,
   "id": "01829db7",
   "metadata": {},
   "outputs": [
    {
     "data": {
      "text/plain": [
       "array([[1.16982679],\n",
       "       [1.16441394],\n",
       "       [1.16513205],\n",
       "       ...,\n",
       "       [1.16043732],\n",
       "       [1.16513205],\n",
       "       [1.16441394]])"
      ]
     },
     "execution_count": 54,
     "metadata": {},
     "output_type": "execute_result"
    }
   ],
   "source": [
    "y_predicted"
   ]
  },
  {
   "cell_type": "code",
   "execution_count": 55,
   "id": "3573075c",
   "metadata": {},
   "outputs": [
    {
     "data": {
      "text/html": [
       "<div>\n",
       "<style scoped>\n",
       "    .dataframe tbody tr th:only-of-type {\n",
       "        vertical-align: middle;\n",
       "    }\n",
       "\n",
       "    .dataframe tbody tr th {\n",
       "        vertical-align: top;\n",
       "    }\n",
       "\n",
       "    .dataframe thead th {\n",
       "        text-align: right;\n",
       "    }\n",
       "</style>\n",
       "<table border=\"1\" class=\"dataframe\">\n",
       "  <thead>\n",
       "    <tr style=\"text-align: right;\">\n",
       "      <th></th>\n",
       "      <th>Actual</th>\n",
       "      <th>Predicted</th>\n",
       "    </tr>\n",
       "  </thead>\n",
       "  <tbody>\n",
       "    <tr>\n",
       "      <th>0</th>\n",
       "      <td>1.000000</td>\n",
       "      <td>1.169827</td>\n",
       "    </tr>\n",
       "    <tr>\n",
       "      <th>1</th>\n",
       "      <td>1.000000</td>\n",
       "      <td>1.164414</td>\n",
       "    </tr>\n",
       "    <tr>\n",
       "      <th>2</th>\n",
       "      <td>2.000000</td>\n",
       "      <td>1.165132</td>\n",
       "    </tr>\n",
       "    <tr>\n",
       "      <th>3</th>\n",
       "      <td>1.000000</td>\n",
       "      <td>1.164414</td>\n",
       "    </tr>\n",
       "    <tr>\n",
       "      <th>4</th>\n",
       "      <td>1.000000</td>\n",
       "      <td>1.160437</td>\n",
       "    </tr>\n",
       "    <tr>\n",
       "      <th>5</th>\n",
       "      <td>1.000000</td>\n",
       "      <td>1.160437</td>\n",
       "    </tr>\n",
       "    <tr>\n",
       "      <th>6</th>\n",
       "      <td>1.000000</td>\n",
       "      <td>1.160437</td>\n",
       "    </tr>\n",
       "    <tr>\n",
       "      <th>7</th>\n",
       "      <td>1.000000</td>\n",
       "      <td>1.169827</td>\n",
       "    </tr>\n",
       "    <tr>\n",
       "      <th>8</th>\n",
       "      <td>1.000000</td>\n",
       "      <td>1.160437</td>\n",
       "    </tr>\n",
       "    <tr>\n",
       "      <th>9</th>\n",
       "      <td>1.000000</td>\n",
       "      <td>1.160437</td>\n",
       "    </tr>\n",
       "    <tr>\n",
       "      <th>10</th>\n",
       "      <td>1.000000</td>\n",
       "      <td>1.165132</td>\n",
       "    </tr>\n",
       "    <tr>\n",
       "      <th>11</th>\n",
       "      <td>1.000000</td>\n",
       "      <td>1.160437</td>\n",
       "    </tr>\n",
       "    <tr>\n",
       "      <th>12</th>\n",
       "      <td>1.000000</td>\n",
       "      <td>1.165132</td>\n",
       "    </tr>\n",
       "    <tr>\n",
       "      <th>13</th>\n",
       "      <td>1.000000</td>\n",
       "      <td>1.160437</td>\n",
       "    </tr>\n",
       "    <tr>\n",
       "      <th>14</th>\n",
       "      <td>1.000000</td>\n",
       "      <td>1.165132</td>\n",
       "    </tr>\n",
       "    <tr>\n",
       "      <th>15</th>\n",
       "      <td>1.000000</td>\n",
       "      <td>1.164414</td>\n",
       "    </tr>\n",
       "    <tr>\n",
       "      <th>16</th>\n",
       "      <td>1.000000</td>\n",
       "      <td>1.160437</td>\n",
       "    </tr>\n",
       "    <tr>\n",
       "      <th>17</th>\n",
       "      <td>1.000000</td>\n",
       "      <td>1.160437</td>\n",
       "    </tr>\n",
       "    <tr>\n",
       "      <th>18</th>\n",
       "      <td>1.147564</td>\n",
       "      <td>1.164414</td>\n",
       "    </tr>\n",
       "    <tr>\n",
       "      <th>19</th>\n",
       "      <td>1.000000</td>\n",
       "      <td>1.160437</td>\n",
       "    </tr>\n",
       "    <tr>\n",
       "      <th>20</th>\n",
       "      <td>1.000000</td>\n",
       "      <td>1.160437</td>\n",
       "    </tr>\n",
       "    <tr>\n",
       "      <th>21</th>\n",
       "      <td>1.000000</td>\n",
       "      <td>1.160437</td>\n",
       "    </tr>\n",
       "    <tr>\n",
       "      <th>22</th>\n",
       "      <td>2.000000</td>\n",
       "      <td>1.160437</td>\n",
       "    </tr>\n",
       "    <tr>\n",
       "      <th>23</th>\n",
       "      <td>1.147564</td>\n",
       "      <td>1.615826</td>\n",
       "    </tr>\n",
       "    <tr>\n",
       "      <th>24</th>\n",
       "      <td>1.000000</td>\n",
       "      <td>1.160437</td>\n",
       "    </tr>\n",
       "    <tr>\n",
       "      <th>25</th>\n",
       "      <td>4.000000</td>\n",
       "      <td>1.160437</td>\n",
       "    </tr>\n",
       "    <tr>\n",
       "      <th>26</th>\n",
       "      <td>1.000000</td>\n",
       "      <td>1.160437</td>\n",
       "    </tr>\n",
       "    <tr>\n",
       "      <th>27</th>\n",
       "      <td>1.000000</td>\n",
       "      <td>1.164414</td>\n",
       "    </tr>\n",
       "    <tr>\n",
       "      <th>28</th>\n",
       "      <td>1.000000</td>\n",
       "      <td>1.165132</td>\n",
       "    </tr>\n",
       "    <tr>\n",
       "      <th>29</th>\n",
       "      <td>1.000000</td>\n",
       "      <td>1.164414</td>\n",
       "    </tr>\n",
       "  </tbody>\n",
       "</table>\n",
       "</div>"
      ],
      "text/plain": [
       "      Actual  Predicted\n",
       "0   1.000000   1.169827\n",
       "1   1.000000   1.164414\n",
       "2   2.000000   1.165132\n",
       "3   1.000000   1.164414\n",
       "4   1.000000   1.160437\n",
       "5   1.000000   1.160437\n",
       "6   1.000000   1.160437\n",
       "7   1.000000   1.169827\n",
       "8   1.000000   1.160437\n",
       "9   1.000000   1.160437\n",
       "10  1.000000   1.165132\n",
       "11  1.000000   1.160437\n",
       "12  1.000000   1.165132\n",
       "13  1.000000   1.160437\n",
       "14  1.000000   1.165132\n",
       "15  1.000000   1.164414\n",
       "16  1.000000   1.160437\n",
       "17  1.000000   1.160437\n",
       "18  1.147564   1.164414\n",
       "19  1.000000   1.160437\n",
       "20  1.000000   1.160437\n",
       "21  1.000000   1.160437\n",
       "22  2.000000   1.160437\n",
       "23  1.147564   1.615826\n",
       "24  1.000000   1.160437\n",
       "25  4.000000   1.160437\n",
       "26  1.000000   1.160437\n",
       "27  1.000000   1.164414\n",
       "28  1.000000   1.165132\n",
       "29  1.000000   1.164414"
      ]
     },
     "execution_count": 55,
     "metadata": {},
     "output_type": "execute_result"
    }
   ],
   "source": [
    "# Create a dataframe comparing the actual and predicted values of y.\n",
    "\n",
    "data = pd.DataFrame({'Actual': y_test.flatten(), 'Predicted': y_predicted.flatten()})\n",
    "data.head(30)"
   ]
  },
  {
   "cell_type": "markdown",
   "id": "ff7d5619",
   "metadata": {},
   "source": [
    "From what I can see there is some difference between the actual and predicted y values. This also suggests that the model doesn't justify the relationship between the \"Number of Engines\" and \"Total Fatal Injuries\". The variance in the data can not explain the linear relationship between the variables. Therefore my current hypothesis may not be valid. \n",
    "\n",
    "There may be some data bias involved with this data set, whether it is related to lack of incomplete data, the person collecting the bias and interpreting the data/results or from those providing the results. This wpuld have an impact on the overall results of the hypothesis sought and also affect other variables if they were to be measured against each other."
   ]
  },
  {
   "cell_type": "code",
   "execution_count": 56,
   "id": "381fd8ff",
   "metadata": {},
   "outputs": [],
   "source": [
    "# Export file to csv\n",
    "\n",
    "df.to_csv(os.path.join(path, '02 Data', 'Prepared Data', 'regression_analysis.csv'))"
   ]
  },
  {
   "cell_type": "code",
   "execution_count": null,
   "id": "f44d36ab",
   "metadata": {},
   "outputs": [],
   "source": []
  }
 ],
 "metadata": {
  "kernelspec": {
   "display_name": "Python 3",
   "language": "python",
   "name": "python3"
  },
  "language_info": {
   "codemirror_mode": {
    "name": "ipython",
    "version": 3
   },
   "file_extension": ".py",
   "mimetype": "text/x-python",
   "name": "python",
   "nbconvert_exporter": "python",
   "pygments_lexer": "ipython3",
   "version": "3.8.8"
  }
 },
 "nbformat": 4,
 "nbformat_minor": 5
}
