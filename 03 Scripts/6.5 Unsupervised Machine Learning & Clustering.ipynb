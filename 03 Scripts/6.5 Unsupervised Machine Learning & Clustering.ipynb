{
 "cells": [
  {
   "cell_type": "markdown",
   "id": "5a05cc5d",
   "metadata": {},
   "source": [
    "# 6.5 Machine Learning Part 2"
   ]
  },
  {
   "cell_type": "markdown",
   "id": "f0cfbacb",
   "metadata": {},
   "source": [
    "###  This script contains the following:"
   ]
  },
  {
   "cell_type": "markdown",
   "id": "7302d049",
   "metadata": {},
   "source": [
    "#### 1. Import Libraries adn Data"
   ]
  },
  {
   "cell_type": "markdown",
   "id": "d46c597c",
   "metadata": {},
   "source": [
    "#### 2. The elbow technique"
   ]
  },
  {
   "cell_type": "markdown",
   "id": "9125d9c5",
   "metadata": {},
   "source": [
    "#### 3. kmeans clustering"
   ]
  },
  {
   "cell_type": "markdown",
   "id": "70638983",
   "metadata": {},
   "source": [
    "## 1. Import Libraries and Data"
   ]
  },
  {
   "cell_type": "code",
   "execution_count": 1,
   "id": "550f93a6",
   "metadata": {},
   "outputs": [],
   "source": [
    "import pandas as pd\n",
    "import numpy as np\n",
    "import seaborn as sns\n",
    "import matplotlib\n",
    "import matplotlib.pyplot as plt\n",
    "import os\n",
    "import sklearn\n",
    "from sklearn.cluster import KMeans\n",
    "import pylab as pl"
   ]
  },
  {
   "cell_type": "code",
   "execution_count": 2,
   "id": "ac93b383",
   "metadata": {},
   "outputs": [],
   "source": [
    "# Show graphs in notebook\n",
    "\n",
    "%matplotlib inline"
   ]
  },
  {
   "cell_type": "code",
   "execution_count": 3,
   "id": "c8fcfe8d",
   "metadata": {},
   "outputs": [],
   "source": [
    "path = r'C:\\Users\\nehat\\OneDrive\\Desktop\\CF DA Immersion\\Achievement 6\\Aviation Accidents In The US'"
   ]
  },
  {
   "cell_type": "code",
   "execution_count": 4,
   "id": "ba8cc28d",
   "metadata": {},
   "outputs": [],
   "source": [
    "df =  pd.read_csv(os.path.join(path, '02 Data', 'Prepared data', 'regression_analysis.csv'))"
   ]
  },
  {
   "cell_type": "code",
   "execution_count": 5,
   "id": "0d8f5a21",
   "metadata": {},
   "outputs": [
    {
     "data": {
      "text/plain": [
       "(84794, 25)"
      ]
     },
     "execution_count": 5,
     "metadata": {},
     "output_type": "execute_result"
    }
   ],
   "source": [
    "df.shape"
   ]
  },
  {
   "cell_type": "code",
   "execution_count": 6,
   "id": "76037be1",
   "metadata": {},
   "outputs": [
    {
     "data": {
      "text/html": [
       "<div>\n",
       "<style scoped>\n",
       "    .dataframe tbody tr th:only-of-type {\n",
       "        vertical-align: middle;\n",
       "    }\n",
       "\n",
       "    .dataframe tbody tr th {\n",
       "        vertical-align: top;\n",
       "    }\n",
       "\n",
       "    .dataframe thead th {\n",
       "        text-align: right;\n",
       "    }\n",
       "</style>\n",
       "<table border=\"1\" class=\"dataframe\">\n",
       "  <thead>\n",
       "    <tr style=\"text-align: right;\">\n",
       "      <th></th>\n",
       "      <th>Unnamed: 0</th>\n",
       "      <th>Investigation.Type</th>\n",
       "      <th>Event.Date</th>\n",
       "      <th>Country</th>\n",
       "      <th>Latitude</th>\n",
       "      <th>Longitude</th>\n",
       "      <th>Airport.Name</th>\n",
       "      <th>Aircraft.Damage</th>\n",
       "      <th>Aircraft.Category</th>\n",
       "      <th>Make</th>\n",
       "      <th>...</th>\n",
       "      <th>Total.Fatal.Injuries</th>\n",
       "      <th>Total.Serious.Injuries</th>\n",
       "      <th>Total.Minor.Injuries</th>\n",
       "      <th>Total.Uninjured</th>\n",
       "      <th>Weather.Condition</th>\n",
       "      <th>Broad.Phase.Of.Flight</th>\n",
       "      <th>City</th>\n",
       "      <th>State</th>\n",
       "      <th>InjurySeverityType</th>\n",
       "      <th>Aircraft Size</th>\n",
       "    </tr>\n",
       "  </thead>\n",
       "  <tbody>\n",
       "    <tr>\n",
       "      <th>0</th>\n",
       "      <td>0</td>\n",
       "      <td>Accident</td>\n",
       "      <td>2/16/2021</td>\n",
       "      <td>United States</td>\n",
       "      <td>42.595377</td>\n",
       "      <td>-89.030245</td>\n",
       "      <td>NaN</td>\n",
       "      <td>Substantial</td>\n",
       "      <td>Airplane</td>\n",
       "      <td>Velocity</td>\n",
       "      <td>...</td>\n",
       "      <td>2.0</td>\n",
       "      <td>0.0</td>\n",
       "      <td>0.0</td>\n",
       "      <td>0.0</td>\n",
       "      <td>VMC</td>\n",
       "      <td>NaN</td>\n",
       "      <td>JANESVILLE</td>\n",
       "      <td>WI</td>\n",
       "      <td>Fatal</td>\n",
       "      <td>Medium Aircraft</td>\n",
       "    </tr>\n",
       "    <tr>\n",
       "      <th>1</th>\n",
       "      <td>1</td>\n",
       "      <td>Accident</td>\n",
       "      <td>2/15/2021</td>\n",
       "      <td>United States</td>\n",
       "      <td>18.354444</td>\n",
       "      <td>-65.027778</td>\n",
       "      <td>NaN</td>\n",
       "      <td>Destroyed</td>\n",
       "      <td>Helicopter</td>\n",
       "      <td>Bell</td>\n",
       "      <td>...</td>\n",
       "      <td>4.0</td>\n",
       "      <td>0.0</td>\n",
       "      <td>0.0</td>\n",
       "      <td>0.0</td>\n",
       "      <td>VMC</td>\n",
       "      <td>NaN</td>\n",
       "      <td>St Thomas</td>\n",
       "      <td>CB</td>\n",
       "      <td>Fatal</td>\n",
       "      <td>Small Aircraft</td>\n",
       "    </tr>\n",
       "    <tr>\n",
       "      <th>2</th>\n",
       "      <td>2</td>\n",
       "      <td>Accident</td>\n",
       "      <td>2/13/2021</td>\n",
       "      <td>United States</td>\n",
       "      <td>61.336392</td>\n",
       "      <td>-152.016430</td>\n",
       "      <td>NaN</td>\n",
       "      <td>Substantial</td>\n",
       "      <td>Airplane</td>\n",
       "      <td>Maule</td>\n",
       "      <td>...</td>\n",
       "      <td>0.0</td>\n",
       "      <td>0.0</td>\n",
       "      <td>2.0</td>\n",
       "      <td>0.0</td>\n",
       "      <td>NaN</td>\n",
       "      <td>NaN</td>\n",
       "      <td>TYONEK</td>\n",
       "      <td>AK</td>\n",
       "      <td>Minor</td>\n",
       "      <td>Small Aircraft</td>\n",
       "    </tr>\n",
       "    <tr>\n",
       "      <th>3</th>\n",
       "      <td>3</td>\n",
       "      <td>Accident</td>\n",
       "      <td>2/12/2021</td>\n",
       "      <td>United States</td>\n",
       "      <td>43.297731</td>\n",
       "      <td>-89.755693</td>\n",
       "      <td>SAUK-PRAIRIE</td>\n",
       "      <td>Substantial</td>\n",
       "      <td>Airplane</td>\n",
       "      <td>Cessna</td>\n",
       "      <td>...</td>\n",
       "      <td>0.0</td>\n",
       "      <td>0.0</td>\n",
       "      <td>0.0</td>\n",
       "      <td>1.0</td>\n",
       "      <td>VMC</td>\n",
       "      <td>NaN</td>\n",
       "      <td>PRAIRIE DU SAC</td>\n",
       "      <td>WI</td>\n",
       "      <td>Non-Fatal</td>\n",
       "      <td>Small Aircraft</td>\n",
       "    </tr>\n",
       "    <tr>\n",
       "      <th>4</th>\n",
       "      <td>4</td>\n",
       "      <td>Accident</td>\n",
       "      <td>2/10/2021</td>\n",
       "      <td>United States</td>\n",
       "      <td>27.243723</td>\n",
       "      <td>-81.413767</td>\n",
       "      <td>NaN</td>\n",
       "      <td>Substantial</td>\n",
       "      <td>Airplane</td>\n",
       "      <td>Piper</td>\n",
       "      <td>...</td>\n",
       "      <td>0.0</td>\n",
       "      <td>0.0</td>\n",
       "      <td>1.0</td>\n",
       "      <td>0.0</td>\n",
       "      <td>NaN</td>\n",
       "      <td>NaN</td>\n",
       "      <td>LAKE PLACID</td>\n",
       "      <td>FL</td>\n",
       "      <td>Minor</td>\n",
       "      <td>Small Aircraft</td>\n",
       "    </tr>\n",
       "  </tbody>\n",
       "</table>\n",
       "<p>5 rows × 25 columns</p>\n",
       "</div>"
      ],
      "text/plain": [
       "   Unnamed: 0 Investigation.Type Event.Date        Country   Latitude  \\\n",
       "0           0           Accident  2/16/2021  United States  42.595377   \n",
       "1           1           Accident  2/15/2021  United States  18.354444   \n",
       "2           2           Accident  2/13/2021  United States  61.336392   \n",
       "3           3           Accident  2/12/2021  United States  43.297731   \n",
       "4           4           Accident  2/10/2021  United States  27.243723   \n",
       "\n",
       "    Longitude  Airport.Name Aircraft.Damage Aircraft.Category      Make  ...  \\\n",
       "0  -89.030245           NaN     Substantial          Airplane  Velocity  ...   \n",
       "1  -65.027778           NaN       Destroyed        Helicopter      Bell  ...   \n",
       "2 -152.016430           NaN     Substantial          Airplane     Maule  ...   \n",
       "3  -89.755693  SAUK-PRAIRIE     Substantial          Airplane    Cessna  ...   \n",
       "4  -81.413767           NaN     Substantial          Airplane     Piper  ...   \n",
       "\n",
       "  Total.Fatal.Injuries Total.Serious.Injuries  Total.Minor.Injuries  \\\n",
       "0                  2.0                    0.0                   0.0   \n",
       "1                  4.0                    0.0                   0.0   \n",
       "2                  0.0                    0.0                   2.0   \n",
       "3                  0.0                    0.0                   0.0   \n",
       "4                  0.0                    0.0                   1.0   \n",
       "\n",
       "  Total.Uninjured Weather.Condition  Broad.Phase.Of.Flight            City  \\\n",
       "0             0.0               VMC                    NaN      JANESVILLE   \n",
       "1             0.0               VMC                    NaN       St Thomas   \n",
       "2             0.0               NaN                    NaN          TYONEK   \n",
       "3             1.0               VMC                    NaN  PRAIRIE DU SAC   \n",
       "4             0.0               NaN                    NaN     LAKE PLACID   \n",
       "\n",
       "   State  InjurySeverityType    Aircraft Size  \n",
       "0     WI               Fatal  Medium Aircraft  \n",
       "1     CB               Fatal   Small Aircraft  \n",
       "2     AK               Minor   Small Aircraft  \n",
       "3     WI           Non-Fatal   Small Aircraft  \n",
       "4     FL               Minor   Small Aircraft  \n",
       "\n",
       "[5 rows x 25 columns]"
      ]
     },
     "execution_count": 6,
     "metadata": {},
     "output_type": "execute_result"
    }
   ],
   "source": [
    "df.head()"
   ]
  },
  {
   "cell_type": "code",
   "execution_count": 7,
   "id": "28d0c290",
   "metadata": {},
   "outputs": [],
   "source": [
    "# Drop columns\n",
    "\n",
    "df.drop(columns = [\"Unnamed: 0\"], inplace = True)"
   ]
  },
  {
   "cell_type": "code",
   "execution_count": 8,
   "id": "79b59157",
   "metadata": {},
   "outputs": [
    {
     "data": {
      "text/plain": [
       "Index(['Investigation.Type', 'Event.Date', 'Country', 'Latitude', 'Longitude',\n",
       "       'Airport.Name', 'Aircraft.Damage', 'Aircraft.Category', 'Make', 'Model',\n",
       "       'Amateur.Built', 'Number.of.Engines', 'Engine.Type',\n",
       "       'Purpose.of.flight', 'Total.Fatal.Injuries', 'Total.Serious.Injuries',\n",
       "       'Total.Minor.Injuries', 'Total.Uninjured', 'Weather.Condition',\n",
       "       'Broad.Phase.Of.Flight', 'City', 'State', 'InjurySeverityType',\n",
       "       'Aircraft Size'],\n",
       "      dtype='object')"
      ]
     },
     "execution_count": 8,
     "metadata": {},
     "output_type": "execute_result"
    }
   ],
   "source": [
    "df.columns"
   ]
  },
  {
   "cell_type": "code",
   "execution_count": 9,
   "id": "bb6af230",
   "metadata": {},
   "outputs": [],
   "source": [
    "# Drop categorical columns\n",
    "\n",
    "df2 = df.drop(columns = ['Latitude', 'Longitude','Investigation.Type','Event.Date', 'Country','Airport.Name', 'Aircraft.Damage', 'Aircraft.Category', 'Make', 'Model', 'Amateur.Built', 'Engine.Type', 'Purpose.of.flight', 'Weather.Condition', 'Broad.Phase.Of.Flight', 'City', 'State', 'InjurySeverityType', 'Aircraft Size'])"
   ]
  },
  {
   "cell_type": "code",
   "execution_count": 10,
   "id": "0074eb42",
   "metadata": {},
   "outputs": [
    {
     "data": {
      "text/plain": [
       "Index(['Number.of.Engines', 'Total.Fatal.Injuries', 'Total.Serious.Injuries',\n",
       "       'Total.Minor.Injuries', 'Total.Uninjured'],\n",
       "      dtype='object')"
      ]
     },
     "execution_count": 10,
     "metadata": {},
     "output_type": "execute_result"
    }
   ],
   "source": [
    "df2.columns"
   ]
  },
  {
   "cell_type": "markdown",
   "id": "80ef61f5",
   "metadata": {},
   "source": [
    "### 2. The Elbow Technique"
   ]
  },
  {
   "cell_type": "code",
   "execution_count": 11,
   "id": "76826d09",
   "metadata": {},
   "outputs": [],
   "source": [
    "num_cl = range(1, 10)\n",
    "kmeans = [KMeans(n_clusters=i) for i in num_cl]"
   ]
  },
  {
   "cell_type": "code",
   "execution_count": 12,
   "id": "3762aba1",
   "metadata": {},
   "outputs": [
    {
     "data": {
      "text/plain": [
       "[-67294679.90001027,\n",
       " -17571417.321056504,\n",
       " -9283343.81192975,\n",
       " -6962959.409282018,\n",
       " -5201344.73099688,\n",
       " -3773004.484459583,\n",
       " -3081062.5230735755,\n",
       " -2665610.681626467,\n",
       " -2297442.2591348337]"
      ]
     },
     "execution_count": 12,
     "metadata": {},
     "output_type": "execute_result"
    }
   ],
   "source": [
    "score = [kmeans[i].fit(df2).score(df2) for i in range(len(kmeans))]\n",
    "\n",
    "score"
   ]
  },
  {
   "cell_type": "code",
   "execution_count": 13,
   "id": "f7ace043",
   "metadata": {},
   "outputs": [
    {
     "data": {
      "image/png": "[encoded data removed]",
      "text/plain": [
       "<Figure size 432x288 with 1 Axes>"
      ]
     },
     "metadata": {
      "needs_background": "light"
     },
     "output_type": "display_data"
    }
   ],
   "source": [
    "# Plot the elbow curve using PyLab.\n",
    "\n",
    "curve = pl.plot(num_cl,score)\n",
    "pl.xlabel('Number of Clusters')\n",
    "pl.ylabel('Score')\n",
    "pl.title('Elbow Curve')\n",
    "pl.show()"
   ]
  },
  {
   "cell_type": "markdown",
   "id": "cbaefa7e",
   "metadata": {},
   "source": [
    "#### From the elbow curve we can see that the curve straigthens out at 3, which will be the optimal count for the clusters."
   ]
  },
  {
   "cell_type": "markdown",
   "id": "afd087a7",
   "metadata": {},
   "source": [
    "### 3. k-means clustering"
   ]
  },
  {
   "cell_type": "code",
   "execution_count": 14,
   "id": "77cf674d",
   "metadata": {},
   "outputs": [],
   "source": [
    "# Create the k-means object.\n",
    "\n",
    "kmeans = KMeans(n_clusters = 3, n_jobs = -1) "
   ]
  },
  {
   "cell_type": "code",
   "execution_count": 15,
   "id": "733cfd47",
   "metadata": {},
   "outputs": [
    {
     "name": "stderr",
     "output_type": "stream",
     "text": [
      "C:\\Users\\nehat\\anaconda3\\lib\\site-packages\\sklearn\\cluster\\_kmeans.py:792: FutureWarning: 'n_jobs' was deprecated in version 0.23 and will be removed in 1.0 (renaming of 0.25).\n",
      "  warnings.warn(\"'n_jobs' was deprecated in version 0.23 and will be\"\n"
     ]
    },
    {
     "data": {
      "text/plain": [
       "KMeans(n_clusters=3, n_jobs=-1)"
      ]
     },
     "execution_count": 15,
     "metadata": {},
     "output_type": "execute_result"
    }
   ],
   "source": [
    "# Fit the k-means object to the data.\n",
    "\n",
    "kmeans.fit(df2)"
   ]
  },
  {
   "cell_type": "code",
   "execution_count": 16,
   "id": "cb216202",
   "metadata": {},
   "outputs": [
    {
     "name": "stderr",
     "output_type": "stream",
     "text": [
      "C:\\Users\\nehat\\anaconda3\\lib\\site-packages\\sklearn\\cluster\\_kmeans.py:792: FutureWarning: 'n_jobs' was deprecated in version 0.23 and will be removed in 1.0 (renaming of 0.25).\n",
      "  warnings.warn(\"'n_jobs' was deprecated in version 0.23 and will be\"\n"
     ]
    }
   ],
   "source": [
    "df2['clusters'] = kmeans.fit_predict(df2)"
   ]
  },
  {
   "cell_type": "code",
   "execution_count": 17,
   "id": "3ecd3d34",
   "metadata": {},
   "outputs": [
    {
     "data": {
      "text/html": [
       "<div>\n",
       "<style scoped>\n",
       "    .dataframe tbody tr th:only-of-type {\n",
       "        vertical-align: middle;\n",
       "    }\n",
       "\n",
       "    .dataframe tbody tr th {\n",
       "        vertical-align: top;\n",
       "    }\n",
       "\n",
       "    .dataframe thead th {\n",
       "        text-align: right;\n",
       "    }\n",
       "</style>\n",
       "<table border=\"1\" class=\"dataframe\">\n",
       "  <thead>\n",
       "    <tr style=\"text-align: right;\">\n",
       "      <th></th>\n",
       "      <th>Number.of.Engines</th>\n",
       "      <th>Total.Fatal.Injuries</th>\n",
       "      <th>Total.Serious.Injuries</th>\n",
       "      <th>Total.Minor.Injuries</th>\n",
       "      <th>Total.Uninjured</th>\n",
       "      <th>clusters</th>\n",
       "    </tr>\n",
       "  </thead>\n",
       "  <tbody>\n",
       "    <tr>\n",
       "      <th>0</th>\n",
       "      <td>2.0</td>\n",
       "      <td>2.0</td>\n",
       "      <td>0.0</td>\n",
       "      <td>0.0</td>\n",
       "      <td>0.0</td>\n",
       "      <td>0</td>\n",
       "    </tr>\n",
       "    <tr>\n",
       "      <th>1</th>\n",
       "      <td>1.0</td>\n",
       "      <td>4.0</td>\n",
       "      <td>0.0</td>\n",
       "      <td>0.0</td>\n",
       "      <td>0.0</td>\n",
       "      <td>0</td>\n",
       "    </tr>\n",
       "    <tr>\n",
       "      <th>2</th>\n",
       "      <td>1.0</td>\n",
       "      <td>0.0</td>\n",
       "      <td>0.0</td>\n",
       "      <td>2.0</td>\n",
       "      <td>0.0</td>\n",
       "      <td>0</td>\n",
       "    </tr>\n",
       "    <tr>\n",
       "      <th>3</th>\n",
       "      <td>1.0</td>\n",
       "      <td>0.0</td>\n",
       "      <td>0.0</td>\n",
       "      <td>0.0</td>\n",
       "      <td>1.0</td>\n",
       "      <td>0</td>\n",
       "    </tr>\n",
       "    <tr>\n",
       "      <th>4</th>\n",
       "      <td>1.0</td>\n",
       "      <td>0.0</td>\n",
       "      <td>0.0</td>\n",
       "      <td>1.0</td>\n",
       "      <td>0.0</td>\n",
       "      <td>0</td>\n",
       "    </tr>\n",
       "  </tbody>\n",
       "</table>\n",
       "</div>"
      ],
      "text/plain": [
       "   Number.of.Engines  Total.Fatal.Injuries  Total.Serious.Injuries  \\\n",
       "0                2.0                   2.0                     0.0   \n",
       "1                1.0                   4.0                     0.0   \n",
       "2                1.0                   0.0                     0.0   \n",
       "3                1.0                   0.0                     0.0   \n",
       "4                1.0                   0.0                     0.0   \n",
       "\n",
       "   Total.Minor.Injuries  Total.Uninjured  clusters  \n",
       "0                   0.0              0.0         0  \n",
       "1                   0.0              0.0         0  \n",
       "2                   2.0              0.0         0  \n",
       "3                   0.0              1.0         0  \n",
       "4                   1.0              0.0         0  "
      ]
     },
     "execution_count": 17,
     "metadata": {},
     "output_type": "execute_result"
    }
   ],
   "source": [
    "df2.head()"
   ]
  },
  {
   "cell_type": "code",
   "execution_count": 18,
   "id": "5aa59852",
   "metadata": {},
   "outputs": [
    {
     "data": {
      "text/plain": [
       "0    82929\n",
       "1     1515\n",
       "2      350\n",
       "Name: clusters, dtype: int64"
      ]
     },
     "execution_count": 18,
     "metadata": {},
     "output_type": "execute_result"
    }
   ],
   "source": [
    "df2['clusters'].value_counts()"
   ]
  },
  {
   "cell_type": "code",
   "execution_count": 19,
   "id": "376f171d",
   "metadata": {},
   "outputs": [
    {
     "data": {
      "image/png": "[encoded data removed]",
      "text/plain": [
       "<Figure size 864x576 with 1 Axes>"
      ]
     },
     "metadata": {
      "needs_background": "light"
     },
     "output_type": "display_data"
    }
   ],
   "source": [
    "# Plot the clusters for the \"Total Fatal Injuries\" and \"Number of Engines\" variables.\n",
    "\n",
    "plt.figure(figsize=(12,8))\n",
    "ax = sns.scatterplot(x=df2['Total.Fatal.Injuries'], y=df2['Number.of.Engines'], hue=kmeans.labels_, s=100)\n",
    "\n",
    "ax.grid(False)\n",
    "plt.xlabel('Total Fatal Injuries')\n",
    "plt.ylabel('Number Of Engines')\n",
    "plt.show()"
   ]
  },
  {
   "cell_type": "code",
   "execution_count": 20,
   "id": "f73cef0f",
   "metadata": {},
   "outputs": [
    {
     "data": {
      "image/png": "[encoded data removed]",
      "text/plain": [
       "<Figure size 864x576 with 1 Axes>"
      ]
     },
     "metadata": {
      "needs_background": "light"
     },
     "output_type": "display_data"
    }
   ],
   "source": [
    "plt.figure(figsize=(12,8))\n",
    "ax = sns.scatterplot(x=df2['Total.Serious.Injuries'], y=df2['Number.of.Engines'], hue=kmeans.labels_, s=100)\n",
    "\n",
    "ax.grid(False)\n",
    "plt.xlabel('Total Serious Injuries')\n",
    "plt.ylabel('Number Of Engines')\n",
    "plt.show()"
   ]
  },
  {
   "cell_type": "code",
   "execution_count": 21,
   "id": "c6a429a3",
   "metadata": {},
   "outputs": [
    {
     "data": {
      "image/png": "[encoded data removed]",
      "text/plain": [
       "<Figure size 864x576 with 1 Axes>"
      ]
     },
     "metadata": {
      "needs_background": "light"
     },
     "output_type": "display_data"
    }
   ],
   "source": [
    "plt.figure(figsize=(12,8))\n",
    "ax = sns.scatterplot(x=df2['Total.Fatal.Injuries'], y=df2['Total.Uninjured'], hue=kmeans.labels_, s=100)\n",
    "\n",
    "ax.grid(False)\n",
    "plt.xlabel('Total Fatal Injuries')\n",
    "plt.ylabel('Total Uninjured')\n",
    "plt.show()"
   ]
  },
  {
   "cell_type": "code",
   "execution_count": 22,
   "id": "6e7e9434",
   "metadata": {},
   "outputs": [
    {
     "data": {
      "image/png": "[encoded data removed]",
      "text/plain": [
       "<Figure size 864x576 with 1 Axes>"
      ]
     },
     "metadata": {
      "needs_background": "light"
     },
     "output_type": "display_data"
    }
   ],
   "source": [
    "plt.figure(figsize=(12,8))\n",
    "ax = sns.scatterplot(x=df2['Total.Serious.Injuries'], y=df2['Total.Uninjured'], hue=kmeans.labels_, s=100)\n",
    "\n",
    "ax.grid(False)\n",
    "plt.xlabel('Total Serious Injuries')\n",
    "plt.ylabel('Total Uninjured')\n",
    "plt.show()"
   ]
  },
  {
   "cell_type": "markdown",
   "id": "93dc8f52",
   "metadata": {},
   "source": [
    "#### The first two scatterplots are very similar to the the patterns I have already seen in the previous tasks. The only difference here is the clusters shown by the different colors. Clusters coded as \"0\" are the most popular as we see on the scatterplots indicated by the lighest shade. Although we see the same pattern as previously we do not see \"clusters\" as such. So for these variables I do not think that clustering works.\n",
    "#### In the latter two scatterplots there seems to be some element of clustering showing that the lower number of serious or fatal injuries the greater the number of uninjured persons. "
   ]
  },
  {
   "cell_type": "code",
   "execution_count": 23,
   "id": "3234ec24",
   "metadata": {},
   "outputs": [],
   "source": [
    "df2.loc[df2['clusters'] == 2, 'cluster'] = 'dark purple'\n",
    "df2.loc[df2['clusters'] == 1, 'cluster'] = 'purple'\n",
    "df2.loc[df2['clusters'] == 0, 'cluster'] = 'pink'"
   ]
  },
  {
   "cell_type": "code",
   "execution_count": 24,
   "id": "099f7071",
   "metadata": {},
   "outputs": [
    {
     "data": {
      "text/html": [
       "<div>\n",
       "<style scoped>\n",
       "    .dataframe tbody tr th:only-of-type {\n",
       "        vertical-align: middle;\n",
       "    }\n",
       "\n",
       "    .dataframe tbody tr th {\n",
       "        vertical-align: top;\n",
       "    }\n",
       "\n",
       "    .dataframe thead tr th {\n",
       "        text-align: left;\n",
       "    }\n",
       "\n",
       "    .dataframe thead tr:last-of-type th {\n",
       "        text-align: right;\n",
       "    }\n",
       "</style>\n",
       "<table border=\"1\" class=\"dataframe\">\n",
       "  <thead>\n",
       "    <tr>\n",
       "      <th></th>\n",
       "      <th colspan=\"2\" halign=\"left\">Number.of.Engines</th>\n",
       "      <th colspan=\"2\" halign=\"left\">Total.Fatal.Injuries</th>\n",
       "      <th colspan=\"2\" halign=\"left\">Total.Serious.Injuries</th>\n",
       "      <th colspan=\"2\" halign=\"left\">Total.Minor.Injuries</th>\n",
       "      <th colspan=\"2\" halign=\"left\">Total.Uninjured</th>\n",
       "    </tr>\n",
       "    <tr>\n",
       "      <th></th>\n",
       "      <th>mean</th>\n",
       "      <th>median</th>\n",
       "      <th>mean</th>\n",
       "      <th>median</th>\n",
       "      <th>mean</th>\n",
       "      <th>median</th>\n",
       "      <th>mean</th>\n",
       "      <th>median</th>\n",
       "      <th>mean</th>\n",
       "      <th>median</th>\n",
       "    </tr>\n",
       "    <tr>\n",
       "      <th>cluster</th>\n",
       "      <th></th>\n",
       "      <th></th>\n",
       "      <th></th>\n",
       "      <th></th>\n",
       "      <th></th>\n",
       "      <th></th>\n",
       "      <th></th>\n",
       "      <th></th>\n",
       "      <th></th>\n",
       "      <th></th>\n",
       "    </tr>\n",
       "  </thead>\n",
       "  <tbody>\n",
       "    <tr>\n",
       "      <th>dark purple</th>\n",
       "      <td>2.524642</td>\n",
       "      <td>2.0</td>\n",
       "      <td>0.560492</td>\n",
       "      <td>0.847037</td>\n",
       "      <td>0.591260</td>\n",
       "      <td>0.330833</td>\n",
       "      <td>2.536085</td>\n",
       "      <td>0.521104</td>\n",
       "      <td>311.742857</td>\n",
       "      <td>288.0</td>\n",
       "    </tr>\n",
       "    <tr>\n",
       "      <th>pink</th>\n",
       "      <td>1.141616</td>\n",
       "      <td>1.0</td>\n",
       "      <td>0.855852</td>\n",
       "      <td>0.847037</td>\n",
       "      <td>0.321892</td>\n",
       "      <td>0.000000</td>\n",
       "      <td>0.479189</td>\n",
       "      <td>0.521104</td>\n",
       "      <td>2.564808</td>\n",
       "      <td>1.0</td>\n",
       "    </tr>\n",
       "    <tr>\n",
       "      <th>purple</th>\n",
       "      <td>2.050321</td>\n",
       "      <td>2.0</td>\n",
       "      <td>0.560462</td>\n",
       "      <td>0.847037</td>\n",
       "      <td>0.635309</td>\n",
       "      <td>0.330833</td>\n",
       "      <td>2.315948</td>\n",
       "      <td>0.521104</td>\n",
       "      <td>132.670627</td>\n",
       "      <td>131.0</td>\n",
       "    </tr>\n",
       "  </tbody>\n",
       "</table>\n",
       "</div>"
      ],
      "text/plain": [
       "            Number.of.Engines        Total.Fatal.Injuries            \\\n",
       "                         mean median                 mean    median   \n",
       "cluster                                                               \n",
       "dark purple          2.524642    2.0             0.560492  0.847037   \n",
       "pink                 1.141616    1.0             0.855852  0.847037   \n",
       "purple               2.050321    2.0             0.560462  0.847037   \n",
       "\n",
       "            Total.Serious.Injuries           Total.Minor.Injuries            \\\n",
       "                              mean    median                 mean    median   \n",
       "cluster                                                                       \n",
       "dark purple               0.591260  0.330833             2.536085  0.521104   \n",
       "pink                      0.321892  0.000000             0.479189  0.521104   \n",
       "purple                    0.635309  0.330833             2.315948  0.521104   \n",
       "\n",
       "            Total.Uninjured         \n",
       "                       mean median  \n",
       "cluster                             \n",
       "dark purple      311.742857  288.0  \n",
       "pink               2.564808    1.0  \n",
       "purple           132.670627  131.0  "
      ]
     },
     "execution_count": 24,
     "metadata": {},
     "output_type": "execute_result"
    }
   ],
   "source": [
    "# Descriptive analysis for clusters\n",
    "\n",
    "df2.groupby('cluster').agg({'Number.of.Engines':['mean', 'median'], \n",
    "                         'Total.Fatal.Injuries':['mean', 'median'], \n",
    "                         'Total.Serious.Injuries':['mean', 'median'],\n",
    "                          'Total.Minor.Injuries':['mean', 'median'],\n",
    "                           'Total.Uninjured':['mean', 'median']})"
   ]
  },
  {
   "cell_type": "markdown",
   "id": "3c49cb2f",
   "metadata": {},
   "source": [
    "#### For the most of the results the dark purple cluster has  better results closely followed by the purple and then lastly by the pink cluster. The median number of engines is 2 for 2 of the clusters. The median for total fatal injuries is the same for each cluster as is the median for total minor injuries. "
   ]
  },
  {
   "cell_type": "markdown",
   "id": "58da1da6",
   "metadata": {},
   "source": [
    "#### The results from this analysis feel like they are a little difficult to use in the future. I feel that there does not seem to be sufficient /results to really find a pattern with the limiting columns that are used for this analysis. The causes of the injuries, which ever types of injuries can not only be based on the number of engines/size of the aircraft. I would want to know if there were other factors that affected the results and caused the different degree of injuries.\n",
    "#### If I wanted to look at the results to improve saftey for example then being able to use the make or model may help make suggestions to improve aircrafts and their safety profiles. Clustering with this data set may not provide justice to the anlaysis and with data missing and filled in with descriptive statistics may not always provide an accurate enough result. "
   ]
  },
  {
   "cell_type": "code",
   "execution_count": 25,
   "id": "0a6f5dc6",
   "metadata": {},
   "outputs": [],
   "source": [
    "# Export file\n",
    "\n",
    "df.to_csv(os.path.join(path, '02 Data', 'Prepared Data', 'clustering.csv'))"
   ]
  },
  {
   "cell_type": "code",
   "execution_count": 26,
   "id": "aaa057f6",
   "metadata": {},
   "outputs": [],
   "source": [
    "# Export file\n",
    "\n",
    "df2.to_csv(os.path.join(path, '02 Data', 'Prepared Data', 'clustering.csv'))"
   ]
  },
  {
   "cell_type": "code",
   "execution_count": null,
   "id": "c506f887",
   "metadata": {},
   "outputs": [],
   "source": []
  }
 ],
 "metadata": {
  "kernelspec": {
   "display_name": "Python 3",
   "language": "python",
   "name": "python3"
  },
  "language_info": {
   "codemirror_mode": {
    "name": "ipython",
    "version": 3
   },
   "file_extension": ".py",
   "mimetype": "text/x-python",
   "name": "python",
   "nbconvert_exporter": "python",
   "pygments_lexer": "ipython3",
   "version": "3.8.8"
  }
 },
 "nbformat": 4,
 "nbformat_minor": 5
}
